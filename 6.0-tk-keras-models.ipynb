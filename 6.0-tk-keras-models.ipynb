{
 "cells": [
  {
   "cell_type": "code",
   "execution_count": 2,
   "metadata": {},
   "outputs": [
    {
     "name": "stderr",
     "output_type": "stream",
     "text": [
      "/home/group7/anaconda3/envs/johenv/lib/python3.6/site-packages/h5py/__init__.py:36: FutureWarning: Conversion of the second argument of issubdtype from `float` to `np.floating` is deprecated. In future, it will be treated as `np.float64 == np.dtype(float).type`.\n",
      "  from ._conv import register_converters as _register_converters\n",
      "Using TensorFlow backend.\n"
     ]
    }
   ],
   "source": [
    "import json\n",
    "import pathlib\n",
    "import sys\n",
    "from shutil import copyfile, move\n",
    "\n",
    "import keras\n",
    "import numpy as np\n",
    "\n",
    "# http://172.20.11.11:8899/tree/news-comments-upvotes\n",
    "# import util\n",
    "# import vis\n",
    "# from config import *\n",
    "from keras_text.data import Dataset\n",
    "from keras_text.models import AlexCNN, AttentionRNN, BasicLSTM, StackedRNN, TokenModelFactory, YoonKimCNN\n",
    "from keras_text.preprocessing import SimpleTokenizer"
   ]
  },
  {
   "cell_type": "code",
   "execution_count": 1,
   "metadata": {},
   "outputs": [],
   "source": [
    "path_embedding='/mnt/data/embeddings/fasttext_guardian_comments/guardian-twokenized-lower-300.vec'\n",
    "path_data='/mnt/data/group07/johannes/exp_data/politics_1.0'\n",
    "dir_proc_data='/mnt/data/group07/johannes/ds/proc_data_pol_1.0'"
   ]
  },
  {
   "cell_type": "code",
   "execution_count": 5,
   "metadata": {},
   "outputs": [],
   "source": [
    "def build_dataset():\n",
    "    pathlib.Path(dir_proc_data).mkdir(parents=True)\n",
    "\n",
    "    X_train, y_train = util.load_data(path_data + '/train.csv')\n",
    "\n",
    "    tokenizer = SimpleTokenizer()\n",
    "\n",
    "    # onyl build vocab on training data\n",
    "    tokenizer.build_vocab(X_train)\n",
    "\n",
    "    util.build_save_data(X_train, y_train, tokenizer,\n",
    "                         dir_proc_data + '/train.bin', max_len)\n",
    "\n",
    "    X_val, y_val = util.load_data(path_data + '/val.csv')\n",
    "    util.build_save_data(X_val, y_val, tokenizer,\n",
    "                         dir_proc_data + '/val.bin', max_len)\n",
    "\n",
    "    X_test, y_test = util.load_data(path_data + '/test.csv')\n",
    "    util.build_save_data(X_test, y_test, tokenizer,\n",
    "                         dir_proc_data + '/test.bin', max_len)\n",
    "# build_dataset()"
   ]
  },
  {
   "cell_type": "code",
   "execution_count": 8,
   "metadata": {},
   "outputs": [
    {
     "name": "stderr",
     "output_type": "stream",
     "text": [
      "INFO:keras_text.embeddings:Building embeddings index...\n",
      "INFO:keras_text.embeddings:Done\n",
      "INFO:keras_text.embeddings:Loading embeddings for all words in the corpus\n"
     ]
    },
    {
     "ename": "NameError",
     "evalue": "name 'exp_path' is not defined",
     "output_type": "error",
     "traceback": [
      "\u001b[0;31m---------------------------------------------------------------------------\u001b[0m",
      "\u001b[0;31mNameError\u001b[0m                                 Traceback (most recent call last)",
      "\u001b[0;32m<ipython-input-8-4943986b1278>\u001b[0m in \u001b[0;36m<module>\u001b[0;34m()\u001b[0m\n\u001b[1;32m     58\u001b[0m     \u001b[0mmove\u001b[0m\u001b[0;34m(\u001b[0m\u001b[0mexp_path\u001b[0m\u001b[0;34m,\u001b[0m \u001b[0mexp_path\u001b[0m \u001b[0;34m+\u001b[0m \u001b[0;34m'_'\u001b[0m \u001b[0;34m+\u001b[0m \u001b[0mbest_acc\u001b[0m\u001b[0;34m)\u001b[0m\u001b[0;34m\u001b[0m\u001b[0m\n\u001b[1;32m     59\u001b[0m \u001b[0;34m\u001b[0m\u001b[0m\n\u001b[0;32m---> 60\u001b[0;31m \u001b[0mtrain\u001b[0m\u001b[0;34m(\u001b[0m\u001b[0;34m)\u001b[0m\u001b[0;34m\u001b[0m\u001b[0m\n\u001b[0m",
      "\u001b[0;32m<ipython-input-8-4943986b1278>\u001b[0m in \u001b[0;36mtrain\u001b[0;34m()\u001b[0m\n\u001b[1;32m     40\u001b[0m \u001b[0;34m\u001b[0m\u001b[0m\n\u001b[1;32m     41\u001b[0m     checkpoint = keras.callbacks.ModelCheckpoint(\n\u001b[0;32m---> 42\u001b[0;31m         exp_path + \"/best.hdf5\", monitor='val_acc', verbose=1, save_best_only=True)\n\u001b[0m\u001b[1;32m     43\u001b[0m     \u001b[0mearly_stop\u001b[0m \u001b[0;34m=\u001b[0m \u001b[0mkeras\u001b[0m\u001b[0;34m.\u001b[0m\u001b[0mcallbacks\u001b[0m\u001b[0;34m.\u001b[0m\u001b[0mEarlyStopping\u001b[0m\u001b[0;34m(\u001b[0m\u001b[0mmonitor\u001b[0m\u001b[0;34m=\u001b[0m\u001b[0;34m'val_loss'\u001b[0m\u001b[0;34m,\u001b[0m \u001b[0mpatience\u001b[0m\u001b[0;34m=\u001b[0m\u001b[0;36m5\u001b[0m\u001b[0;34m)\u001b[0m\u001b[0;34m\u001b[0m\u001b[0m\n\u001b[1;32m     44\u001b[0m     csv_logger = keras.callbacks.CSVLogger(\n",
      "\u001b[0;31mNameError\u001b[0m: name 'exp_path' is not defined"
     ]
    }
   ],
   "source": [
    "max_len = 400\n",
    "embedding_dims = 300\n",
    "\n",
    "epochs = 200\n",
    "batch_size = 128\n",
    "lr = 0.001\n",
    "\n",
    "def build_keras_model():\n",
    "    optimizer = keras.optimizers.adam(lr=lr)\n",
    "    word_encoder_model = YoonKimCNN(filter_sizes=[2, 5, 10], num_filters=100, dropout_rate=0)\n",
    "    # word_encoder_model = AlexCNN(dropout_rate=[0, 0])\n",
    "    #word_encoder_model = AttentionRNN(encoder_dims=15)\n",
    "    # word_encoder_model = StackedRNN(hidden_dims=[15, 15])\n",
    "    # word_encoder_model = BasicLSTM(hidden_dims=20, dropout_rate=0.5)\n",
    "    \n",
    "    model = factory.build_model(\n",
    "        token_encoder_model=word_encoder_model, trainable_embeddings=False)\n",
    "    model.compile(optimizer=optimizer,\n",
    "                  loss='categorical_crossentropy', metrics=['accuracy'])\n",
    "    \n",
    "def train():\n",
    "    \n",
    "    \n",
    "    # exp_path = util.create_exp_dir(path_data)\n",
    "    # copyfile('./run.py', exp_path + '/run.py')\n",
    "\n",
    "    ds_train = Dataset.load(dir_proc_data + '/train.bin')\n",
    "    X_train, y_train = ds_train.X, ds_train.y\n",
    "\n",
    "    ds_val = Dataset.load(dir_proc_data + '/val.bin')\n",
    "    X_val, y_val = ds_val.X, ds_val.y\n",
    "\n",
    "    # print(ds_train.tokenizer.decode_texts(X_train[:10]))\n",
    "    # print(y_train[:10])\n",
    "\n",
    "    # print(ds_train.tokenizer.decode_texts(X_val[:10]))\n",
    "    # print(y_val[:10])\n",
    "\n",
    "    factory = TokenModelFactory(\n",
    "        2, ds_train.tokenizer.token_index, max_tokens=max_len, embedding_path=path_embedding, embedding_dims=embedding_dims)\n",
    "\n",
    "    \n",
    "\n",
    "\n",
    "    checkpoint = keras.callbacks.ModelCheckpoint(\n",
    "        exp_path + \"/best.hdf5\", monitor='val_acc', verbose=1, save_best_only=True)\n",
    "    early_stop = keras.callbacks.EarlyStopping(monitor='val_loss', patience=5)\n",
    "    csv_logger = keras.callbacks.CSVLogger(\n",
    "        exp_path + '/log.csv', append=True, separator=';')\n",
    "    callbacks_list = [checkpoint, early_stop, csv_logger]\n",
    "\n",
    "    model.summary()\n",
    "\n",
    "    history = model.fit(X_train, y_train, epochs=epochs,\n",
    "                        batch_size=batch_size, validation_data=(X_val, y_val), callbacks=callbacks_list)\n",
    "\n",
    "    # vis.plot_history(history, exp_path)\n",
    "\n",
    "    best_acc = str(max(history.history['val_acc']))[:6]\n",
    "\n",
    "    # append best acc\n",
    "    move(exp_path, exp_path + '_' + best_acc)\n",
    "\n",
    "train()"
   ]
  },
  {
   "cell_type": "code",
   "execution_count": null,
   "metadata": {},
   "outputs": [],
   "source": [
    "def test_data():\n",
    "    # TODO\n",
    "    pass"
   ]
  }
 ],
 "metadata": {
  "kernelspec": {
   "display_name": "Python 3",
   "language": "python",
   "name": "python3"
  },
  "language_info": {
   "codemirror_mode": {
    "name": "ipython",
    "version": 3
   },
   "file_extension": ".py",
   "mimetype": "text/x-python",
   "name": "python",
   "nbconvert_exporter": "python",
   "pygments_lexer": "ipython3",
   "version": "3.6.5"
  }
 },
 "nbformat": 4,
 "nbformat_minor": 2
}
