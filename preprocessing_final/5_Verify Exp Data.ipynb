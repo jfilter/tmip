{
 "cells": [
  {
   "cell_type": "code",
   "execution_count": 1,
   "metadata": {},
   "outputs": [],
   "source": [
    "import pandas as pd"
   ]
  },
  {
   "cell_type": "code",
   "execution_count": 19,
   "metadata": {},
   "outputs": [],
   "source": [
    "fn = '/mnt/data/group07/johannes/proc_data/politics_comments.csv'\n",
    "# fn = '/mnt/data/group07/johannes/exp_data/politics_0.5/train.csv'\n",
    "\n",
    "df = pd.read_csv(fn)"
   ]
  },
  {
   "cell_type": "code",
   "execution_count": 6,
   "metadata": {},
   "outputs": [
    {
     "data": {
      "text/html": [
       "<div>\n",
       "<style scoped>\n",
       "    .dataframe tbody tr th:only-of-type {\n",
       "        vertical-align: middle;\n",
       "    }\n",
       "\n",
       "    .dataframe tbody tr th {\n",
       "        vertical-align: top;\n",
       "    }\n",
       "\n",
       "    .dataframe thead th {\n",
       "        text-align: right;\n",
       "    }\n",
       "</style>\n",
       "<table border=\"1\" class=\"dataframe\">\n",
       "  <thead>\n",
       "    <tr style=\"text-align: right;\">\n",
       "      <th></th>\n",
       "      <th>Unnamed: 0</th>\n",
       "      <th>Unnamed: 0.1</th>\n",
       "      <th>Unnamed: 0.1.1</th>\n",
       "      <th>Unnamed: 0.1.1.1</th>\n",
       "      <th>article_id</th>\n",
       "      <th>author_id</th>\n",
       "      <th>comment_id</th>\n",
       "      <th>timestamp</th>\n",
       "      <th>upvotes</th>\n",
       "      <th>comment_text</th>\n",
       "      <th>rank</th>\n",
       "      <th>total_upvotes</th>\n",
       "      <th>total_comments</th>\n",
       "      <th>rel_upvotes</th>\n",
       "      <th>class</th>\n",
       "    </tr>\n",
       "  </thead>\n",
       "  <tbody>\n",
       "    <tr>\n",
       "      <th>29</th>\n",
       "      <td>45509</td>\n",
       "      <td>120120</td>\n",
       "      <td>1950440</td>\n",
       "      <td>1950440</td>\n",
       "      <td>18279</td>\n",
       "      <td>9807</td>\n",
       "      <td>8442937</td>\n",
       "      <td>2010-11-19T00:14:22Z</td>\n",
       "      <td>71</td>\n",
       "      <td>eton was paid tax payers money , what society ...</td>\n",
       "      <td>5</td>\n",
       "      <td>532</td>\n",
       "      <td>10</td>\n",
       "      <td>13.345865</td>\n",
       "      <td>1</td>\n",
       "    </tr>\n",
       "    <tr>\n",
       "      <th>51303</th>\n",
       "      <td>157408</td>\n",
       "      <td>120120</td>\n",
       "      <td>1950440</td>\n",
       "      <td>1950440</td>\n",
       "      <td>18279</td>\n",
       "      <td>9807</td>\n",
       "      <td>8442937</td>\n",
       "      <td>2010-11-19T00:14:22Z</td>\n",
       "      <td>71</td>\n",
       "      <td>eton was paid tax payers money , what society ...</td>\n",
       "      <td>5</td>\n",
       "      <td>532</td>\n",
       "      <td>10</td>\n",
       "      <td>13.345865</td>\n",
       "      <td>0</td>\n",
       "    </tr>\n",
       "  </tbody>\n",
       "</table>\n",
       "</div>"
      ],
      "text/plain": [
       "       Unnamed: 0  Unnamed: 0.1  Unnamed: 0.1.1  Unnamed: 0.1.1.1  article_id  \\\n",
       "29          45509        120120         1950440           1950440       18279   \n",
       "51303      157408        120120         1950440           1950440       18279   \n",
       "\n",
       "       author_id  comment_id             timestamp  upvotes  \\\n",
       "29          9807     8442937  2010-11-19T00:14:22Z       71   \n",
       "51303       9807     8442937  2010-11-19T00:14:22Z       71   \n",
       "\n",
       "                                            comment_text  rank  total_upvotes  \\\n",
       "29     eton was paid tax payers money , what society ...     5            532   \n",
       "51303  eton was paid tax payers money , what society ...     5            532   \n",
       "\n",
       "       total_comments  rel_upvotes  class  \n",
       "29                 10    13.345865      1  \n",
       "51303              10    13.345865      0  "
      ]
     },
     "execution_count": 6,
     "metadata": {},
     "output_type": "execute_result"
    }
   ],
   "source": [
    "df[df['comment_id'] == 8442937]"
   ]
  },
  {
   "cell_type": "code",
   "execution_count": 20,
   "metadata": {},
   "outputs": [
    {
     "data": {
      "text/plain": [
       "True"
      ]
     },
     "execution_count": 20,
     "metadata": {},
     "output_type": "execute_result"
    }
   ],
   "source": [
    "# pd.Series([1, 2, 3]).is_unique\n",
    "df['comment_id'].is_unique"
   ]
  },
  {
   "cell_type": "code",
   "execution_count": 21,
   "metadata": {},
   "outputs": [
    {
     "data": {
      "text/plain": [
       "1372455"
      ]
     },
     "execution_count": 21,
     "metadata": {},
     "output_type": "execute_result"
    }
   ],
   "source": [
    "len(df['comment_id'].unique())"
   ]
  },
  {
   "cell_type": "code",
   "execution_count": 22,
   "metadata": {},
   "outputs": [
    {
     "data": {
      "text/plain": [
       "(1372455, 8)"
      ]
     },
     "execution_count": 22,
     "metadata": {},
     "output_type": "execute_result"
    }
   ],
   "source": [
    "df.shape"
   ]
  },
  {
   "cell_type": "code",
   "execution_count": null,
   "metadata": {},
   "outputs": [],
   "source": []
  }
 ],
 "metadata": {
  "kernelspec": {
   "display_name": "Python 3",
   "language": "python",
   "name": "python3"
  },
  "language_info": {
   "codemirror_mode": {
    "name": "ipython",
    "version": 3
   },
   "file_extension": ".py",
   "mimetype": "text/x-python",
   "name": "python",
   "nbconvert_exporter": "python",
   "pygments_lexer": "ipython3",
   "version": "3.6.5"
  }
 },
 "nbformat": 4,
 "nbformat_minor": 2
}
