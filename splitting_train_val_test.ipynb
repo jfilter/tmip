{
 "cells": [
  {
   "cell_type": "code",
   "execution_count": 3,
   "metadata": {},
   "outputs": [],
   "source": [
    "import os\n",
    "import pandas as pd\n",
    "from sklearn.model_selection import train_test_split"
   ]
  },
  {
   "cell_type": "code",
   "execution_count": 5,
   "metadata": {},
   "outputs": [
    {
     "name": "stdout",
     "output_type": "stream",
     "text": [
      "(17088, 14) (2136, 14) (2136, 14)\n",
      "(85440, 14) (10680, 14) (10680, 14)\n",
      "(170876, 14) (21360, 14) (21360, 14)\n"
     ]
    }
   ],
   "source": [
    "perc = [\"0.1\", \"0.5\", \"1.0\"]\n",
    "category = \"politics\"\n",
    "\n",
    "for p in perc:\n",
    "    outdir = '/mnt/data/group07/johannes/exp_data/' + category + \"_\" + str(p)\n",
    "    if not os.path.exists(outdir):\n",
    "        os.mkdir(outdir)\n",
    "        \n",
    "    df = pd.read_csv(\"/mnt/data/group07/johannes/proc_data/classes_\" + category + \"_comments_\" + p + \".csv\")\n",
    "    train, rest = train_test_split(df, test_size=0.2) # first train: 0.8\n",
    "    val, test = train_test_split(rest, test_size=0.5) # then, val: 0.1, test: 0.1\n",
    "    print(train.shape, val.shape, test.shape)\n",
    "    train.to_csv(outdir + '/train.csv')\n",
    "    val.to_csv(outdir + '/val.csv')\n",
    "    test.to_csv(outdir + '/test.csv')"
   ]
  },
  {
   "cell_type": "code",
   "execution_count": null,
   "metadata": {},
   "outputs": [],
   "source": []
  }
 ],
 "metadata": {
  "kernelspec": {
   "display_name": "Python 3",
   "language": "python",
   "name": "python3"
  },
  "language_info": {
   "codemirror_mode": {
    "name": "ipython",
    "version": 3
   },
   "file_extension": ".py",
   "mimetype": "text/x-python",
   "name": "python",
   "nbconvert_exporter": "python",
   "pygments_lexer": "ipython3",
   "version": "3.6.5"
  }
 },
 "nbformat": 4,
 "nbformat_minor": 2
}
